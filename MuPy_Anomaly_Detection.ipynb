{
 "cells": [
  {
   "cell_type": "markdown",
   "metadata": {
    "nbpresent": {
     "id": "b0350bf2-c855-4040-ae7c-a30cacee9ed2"
    },
    "slideshow": {
     "slide_type": "slide"
    }
   },
   "source": [
    "# Anomaly Detection"
   ]
  },
  {
   "cell_type": "markdown",
   "metadata": {
    "nbpresent": {
     "id": "d91466d1-b077-4a10-8a6b-30e7790c945b"
    },
    "slideshow": {
     "slide_type": "fragment"
    }
   },
   "source": [
    "**Detect bizarre events in a not-so-bizarre manner**"
   ]
  },
  {
   "cell_type": "markdown",
   "metadata": {
    "nbpresent": {
     "id": "9e1d19cc-6346-4677-bf9d-cd3d9df3f7f7"
    },
    "slideshow": {
     "slide_type": "slide"
    }
   },
   "source": [
    "## Problem Statement"
   ]
  },
  {
   "cell_type": "markdown",
   "metadata": {
    "nbpresent": {
     "id": "325cc043-9f36-427b-a21e-2d7e424c5b7c"
    },
    "slideshow": {
     "slide_type": "fragment"
    }
   },
   "source": [
    "Given a pattern depicting behaviour of a system, identify events that do not conform to it."
   ]
  },
  {
   "cell_type": "code",
   "execution_count": 2,
   "metadata": {
    "collapsed": false,
    "nbpresent": {
     "id": "d8119fff-bab9-484b-8a09-dad8cb3bb8de"
    },
    "slideshow": {
     "slide_type": "skip"
    }
   },
   "outputs": [],
   "source": [
    "from IPython.display import Image"
   ]
  },
  {
   "cell_type": "code",
   "execution_count": 3,
   "metadata": {
    "collapsed": false,
    "nbpresent": {
     "id": "5bc30b5d-df48-4d27-a34f-6742544f0b0b"
    },
    "slideshow": {
     "slide_type": "fragment"
    }
   },
   "outputs": [
    {
     "data": {
      "text/html": [
       "<img src=\"https://g.twimg.com/blog/blog/image/figure_2_Photos_ChristmasEve_2013.png\"/>"
      ],
      "text/plain": [
       "<IPython.core.display.Image object>"
      ]
     },
     "execution_count": 3,
     "metadata": {},
     "output_type": "execute_result"
    }
   ],
   "source": [
    "Image(url='https://g.twimg.com/blog/blog/image/figure_2_Photos_ChristmasEve_2013.png')"
   ]
  },
  {
   "cell_type": "markdown",
   "metadata": {
    "nbpresent": {
     "id": "7936cd34-6f0b-4a56-99a0-0c90ca50c5d8"
    },
    "slideshow": {
     "slide_type": "slide"
    }
   },
   "source": [
    "## Why?"
   ]
  },
  {
   "cell_type": "markdown",
   "metadata": {
    "nbpresent": {
     "id": "3c0d3da1-ca47-4604-9f55-1a9be03c9f8d"
    },
    "slideshow": {
     "slide_type": "fragment"
    }
   },
   "source": [
    "Anomaly Detection finds applications in a variety of fields:\n",
    "\n",
    "    1. Bank fraud detection\n",
    "    2. Health system monitoring\n",
    "    3. Fault/ Event detection in equipments\n",
    "    4. Intrusion Detection\n",
    "    5. Enhancement in user engagement\n",
    "    6. Bot detection"
   ]
  },
  {
   "cell_type": "markdown",
   "metadata": {
    "nbpresent": {
     "id": "7f25a26f-5b67-4709-bfff-abe0bc90b273"
    },
    "slideshow": {
     "slide_type": "slide"
    }
   },
   "source": [
    "## How?"
   ]
  },
  {
   "cell_type": "markdown",
   "metadata": {
    "nbpresent": {
     "id": "928e2342-d8a9-4f10-89d4-4351e2d79faf"
    },
    "slideshow": {
     "slide_type": "fragment"
    }
   },
   "source": [
    "For this talk, we'll restrict ourselves to dealing with time series data. Time series data provides a 'history' to the parameters that we are trying to model. Given that, using statistical techniques (even as simple as moving average), we can figure out if something is wrong if the behaviour of the system parameters deviates from the usual pattern.\n",
    "\n",
    "One-dimensional data can be visualized and hence manually segregated as healthy or not.\n",
    "\n",
    "Problems arise when we start working with multivariate time series.\n",
    "\n",
    "**Some important things to note are:**\n",
    "\n",
    "    1. Trend\n",
    "    2. Seasonality\n",
    "    "
   ]
  },
  {
   "cell_type": "code",
   "execution_count": 9,
   "metadata": {
    "collapsed": false,
    "nbpresent": {
     "id": "21c4bc36-93d4-4bef-aac8-ff65c063b2b4"
    },
    "slideshow": {
     "slide_type": "fragment"
    }
   },
   "outputs": [
    {
     "data": {
      "text/html": [
       "<img src=\"https://cdn.xlstat.com/img/tutorials/hw1.gif\"/>"
      ],
      "text/plain": [
       "<IPython.core.display.Image object>"
      ]
     },
     "execution_count": 9,
     "metadata": {},
     "output_type": "execute_result"
    }
   ],
   "source": [
    "Image(url='https://cdn.xlstat.com/img/tutorials/hw1.gif')"
   ]
  },
  {
   "cell_type": "markdown",
   "metadata": {
    "nbpresent": {
     "id": "782f5ec3-c104-46df-9482-63ebdc84ab64"
    },
    "slideshow": {
     "slide_type": "slide"
    }
   },
   "source": [
    "## Overview of Algorithms Used"
   ]
  },
  {
   "cell_type": "markdown",
   "metadata": {
    "nbpresent": {
     "id": "d44f6f63-cc0c-40f0-9b29-c5c38dc3d2c9"
    },
    "slideshow": {
     "slide_type": "fragment"
    }
   },
   "source": [
    "Given a sequential piece of data, we need to classify whether it is an anomaly(or failure of some component) or not. \n",
    "\n",
    "\n",
    "* Supervised\n",
    "* Semi-supervised\n",
    "* Unsupervised\n",
    "\n",
    "**Problem:** When the onset of the anomaly is gradual\n",
    "**Solution:** Pattern recognition\n",
    "\n",
    "Conventionally used algorithms:\n",
    "\n",
    "1. Rule-based classifiers\n",
    "2. Feature Selection + Models like decision trees, SVM\n",
    "2. Hidden markov models\n",
    "3. Recurrent neural networks with long short-term memory units\n",
    "\n"
   ]
  },
  {
   "cell_type": "markdown",
   "metadata": {
    "nbpresent": {
     "id": "31a703ba-5e64-4de2-8e9f-266a2f9fe35a"
    },
    "slideshow": {
     "slide_type": "slide"
    }
   },
   "source": [
    "# Proceeding with the model"
   ]
  },
  {
   "cell_type": "markdown",
   "metadata": {
    "nbpresent": {
     "id": "77223131-ee3c-4d61-9cd3-764de5217256"
    },
    "slideshow": {
     "slide_type": "fragment"
    }
   },
   "source": [
    "From Jaidev Deshpande’s talk on Continuous Integration for Data Scientists at PyCon 2016, New Delhi:\n",
    "\n",
    ">Broadly, the development and maintenance stages of a machine learning product can be broken down as follows:\n",
    "> * Data Ingestion: data collection, cleaning and transforming (ETL)\n",
    "> *\tFeature Engineering\n",
    "> *\tModel Selection\n",
    "> *\tTraining and Prediction\n",
    "> *\tIncorporating feedback from production into the training process\n"
   ]
  },
  {
   "cell_type": "markdown",
   "metadata": {
    "nbpresent": {
     "id": "918a38ec-853f-4920-aad3-d5a1dfda1c82"
    },
    "slideshow": {
     "slide_type": "slide"
    }
   },
   "source": [
    "## Python Environment"
   ]
  },
  {
   "cell_type": "markdown",
   "metadata": {
    "nbpresent": {
     "id": "bb4f5d1b-6d0b-4f79-904e-31fe42c57ba1"
    },
    "slideshow": {
     "slide_type": "subslide"
    }
   },
   "source": [
    "Start with IPython Notebooks. People with a fetish for working on black screens can use [this dark background theme](https://github.com/powerpak/jupyter-dark-theme). Then customize matplotlib to use the 'dark_background' style for plots.\n",
    "\n",
    "[Anaconda Distribution](https://anaconda.org/) is preferable (Miniconda works too)"
   ]
  },
  {
   "cell_type": "markdown",
   "metadata": {
    "nbpresent": {
     "id": "a59e0519-4a2a-4c65-aa09-fa259beffeea"
    },
    "slideshow": {
     "slide_type": "slide"
    }
   },
   "source": [
    "### Import Libraries"
   ]
  },
  {
   "cell_type": "code",
   "execution_count": 4,
   "metadata": {
    "collapsed": true,
    "nbpresent": {
     "id": "db0c5524-0f48-4d06-a004-2e862f6bf659"
    },
    "slideshow": {
     "slide_type": "fragment"
    }
   },
   "outputs": [],
   "source": [
    "import pandas as pd\n",
    "import numpy as np\n",
    "import re\n",
    "import datetime \n",
    "import matplotlib.pyplot as plt\n",
    "import matplotlib.cm as cm\n",
    "import scipy.stats as ss"
   ]
  },
  {
   "cell_type": "markdown",
   "metadata": {
    "nbpresent": {
     "id": "1f4d4f2c-d826-4c19-b76b-2ee2e0148eb8"
    },
    "slideshow": {
     "slide_type": "subslide"
    }
   },
   "source": [
    "### Set options"
   ]
  },
  {
   "cell_type": "code",
   "execution_count": 5,
   "metadata": {
    "collapsed": true,
    "nbpresent": {
     "id": "73e61838-ee90-41cb-8ccc-9d071dee1187"
    },
    "slideshow": {
     "slide_type": "fragment"
    }
   },
   "outputs": [],
   "source": [
    "%matplotlib inline\n",
    "plt.style.use('ggplot')\n",
    "pd.set_option('display.max_columns',100)\n",
    "pd.set_option('display.max_rows', 500)"
   ]
  },
  {
   "cell_type": "markdown",
   "metadata": {
    "nbpresent": {
     "id": "e3a933e6-c814-4511-9bbc-083a84d7378c"
    },
    "slideshow": {
     "slide_type": "slide"
    }
   },
   "source": [
    "## Exploratory Data Analysis"
   ]
  },
  {
   "cell_type": "markdown",
   "metadata": {
    "nbpresent": {
     "id": "251c26b5-caf0-4f13-8c6c-a69b66327b9b"
    },
    "slideshow": {
     "slide_type": "fragment"
    }
   },
   "source": [
    "I'll be using my own dataset for this purpose. It has been cleaned and is well-structured. This data is from the sensors in a Micro Cold Storage and has variables like:\n",
    "\n",
    "1. Room temperature + Humidity\n",
    "2. Ambient temperature + Humidity\n",
    "3. Door open (1/0)\n",
    "4. Fans on\n",
    "5. Current\n",
    "6. Frequency\n",
    "\n",
    "I'll explain a little about how the refrigeration cycle works in a while.  \n",
    "\n",
    "FYI, I could have used a conventional dataset, with a 1-D time series or the overused Iris dataset, but the whole purpose of the talk is to show how data science can be used in non-conventional setting, for a non-data driven product -> non-IT or manufacturing industries where traditionally, data analysis had been done manually"
   ]
  },
  {
   "cell_type": "code",
   "execution_count": 6,
   "metadata": {
    "collapsed": false,
    "nbpresent": {
     "id": "0c42cc78-b9aa-4a7f-9ba5-6fd203335b11"
    },
    "scrolled": true,
    "slideshow": {
     "slide_type": "skip"
    }
   },
   "outputs": [
    {
     "name": "stderr",
     "output_type": "stream",
     "text": [
      "C:\\Users\\Shreya Khurana\\Anaconda2\\lib\\site-packages\\IPython\\core\\interactiveshell.py:2723: DtypeWarning: Columns (12,15,16,38,39,43) have mixed types. Specify dtype option on import or set low_memory=False.\n",
      "  interactivity=interactivity, compiler=compiler, result=result)\n"
     ]
    }
   ],
   "source": [
    "f = 'original_data.csv'\n",
    "df_old = pd.read_csv(f)"
   ]
  },
  {
   "cell_type": "code",
   "execution_count": 9,
   "metadata": {
    "collapsed": false,
    "nbpresent": {
     "id": "b328116a-f553-4f41-bf23-a5a2ff477481"
    },
    "scrolled": true,
    "slideshow": {
     "slide_type": "slide"
    }
   },
   "outputs": [
    {
     "data": {
      "text/html": [
       "<div>\n",
       "<table border=\"1\" class=\"dataframe\">\n",
       "  <thead>\n",
       "    <tr style=\"text-align: right;\">\n",
       "      <th></th>\n",
       "      <th>A02</th>\n",
       "      <th>A03</th>\n",
       "      <th>A05</th>\n",
       "      <th>A06</th>\n",
       "      <th>A07</th>\n",
       "      <th>A08</th>\n",
       "      <th>A09</th>\n",
       "      <th>A11</th>\n",
       "      <th>A15</th>\n",
       "      <th>A17</th>\n",
       "      <th>A18</th>\n",
       "      <th>A19</th>\n",
       "      <th>A20</th>\n",
       "      <th>A21</th>\n",
       "      <th>A22</th>\n",
       "      <th>A23</th>\n",
       "      <th>A24</th>\n",
       "      <th>A25</th>\n",
       "      <th>A26</th>\n",
       "      <th>A27</th>\n",
       "      <th>A28</th>\n",
       "      <th>A29</th>\n",
       "      <th>A30</th>\n",
       "      <th>A31</th>\n",
       "      <th>A32</th>\n",
       "      <th>A33</th>\n",
       "      <th>A34</th>\n",
       "      <th>A35</th>\n",
       "      <th>A38</th>\n",
       "      <th>A39</th>\n",
       "      <th>A42</th>\n",
       "      <th>A43</th>\n",
       "      <th>A44</th>\n",
       "      <th>A45</th>\n",
       "      <th>A46</th>\n",
       "      <th>A47</th>\n",
       "      <th>A48</th>\n",
       "      <th>A49</th>\n",
       "      <th>A50</th>\n",
       "    </tr>\n",
       "  </thead>\n",
       "  <tbody>\n",
       "    <tr>\n",
       "      <th>count</th>\n",
       "      <td>23684.000000</td>\n",
       "      <td>23684.000000</td>\n",
       "      <td>23684.0</td>\n",
       "      <td>23684.000000</td>\n",
       "      <td>23684.0</td>\n",
       "      <td>23684.000000</td>\n",
       "      <td>23685.000000</td>\n",
       "      <td>23684.000000</td>\n",
       "      <td>23684.000000</td>\n",
       "      <td>23684.000000</td>\n",
       "      <td>23684.0</td>\n",
       "      <td>23684.0</td>\n",
       "      <td>23684.0</td>\n",
       "      <td>23684.0</td>\n",
       "      <td>23684.0</td>\n",
       "      <td>23684.000000</td>\n",
       "      <td>23684.000000</td>\n",
       "      <td>0.0</td>\n",
       "      <td>23684.000000</td>\n",
       "      <td>0.0</td>\n",
       "      <td>23684.000000</td>\n",
       "      <td>23684.000000</td>\n",
       "      <td>23684.000000</td>\n",
       "      <td>23684.000000</td>\n",
       "      <td>23684.000000</td>\n",
       "      <td>23684.000000</td>\n",
       "      <td>23684.000000</td>\n",
       "      <td>23684.000000</td>\n",
       "      <td>23684.000000</td>\n",
       "      <td>23684.000000</td>\n",
       "      <td>0.0</td>\n",
       "      <td>0.0</td>\n",
       "      <td>0.0</td>\n",
       "      <td>0.0</td>\n",
       "      <td>0.0</td>\n",
       "      <td>0.0</td>\n",
       "      <td>0.0</td>\n",
       "      <td>0.0</td>\n",
       "      <td>0.0</td>\n",
       "    </tr>\n",
       "    <tr>\n",
       "      <th>mean</th>\n",
       "      <td>24.003931</td>\n",
       "      <td>16.987253</td>\n",
       "      <td>0.0</td>\n",
       "      <td>0.010640</td>\n",
       "      <td>0.0</td>\n",
       "      <td>0.077014</td>\n",
       "      <td>9.700798</td>\n",
       "      <td>18.917763</td>\n",
       "      <td>13.319845</td>\n",
       "      <td>0.284589</td>\n",
       "      <td>0.0</td>\n",
       "      <td>1.0</td>\n",
       "      <td>1.0</td>\n",
       "      <td>1.0</td>\n",
       "      <td>0.0</td>\n",
       "      <td>0.143599</td>\n",
       "      <td>0.219642</td>\n",
       "      <td>NaN</td>\n",
       "      <td>0.350152</td>\n",
       "      <td>NaN</td>\n",
       "      <td>0.213140</td>\n",
       "      <td>0.193886</td>\n",
       "      <td>0.026980</td>\n",
       "      <td>0.253082</td>\n",
       "      <td>0.204864</td>\n",
       "      <td>0.309872</td>\n",
       "      <td>0.280949</td>\n",
       "      <td>0.025925</td>\n",
       "      <td>28.372074</td>\n",
       "      <td>55.487299</td>\n",
       "      <td>NaN</td>\n",
       "      <td>NaN</td>\n",
       "      <td>NaN</td>\n",
       "      <td>NaN</td>\n",
       "      <td>NaN</td>\n",
       "      <td>NaN</td>\n",
       "      <td>NaN</td>\n",
       "      <td>NaN</td>\n",
       "      <td>NaN</td>\n",
       "    </tr>\n",
       "    <tr>\n",
       "      <th>std</th>\n",
       "      <td>2.199530</td>\n",
       "      <td>6.958131</td>\n",
       "      <td>0.0</td>\n",
       "      <td>0.102603</td>\n",
       "      <td>0.0</td>\n",
       "      <td>0.266619</td>\n",
       "      <td>7.837773</td>\n",
       "      <td>24.098587</td>\n",
       "      <td>27.925055</td>\n",
       "      <td>0.603622</td>\n",
       "      <td>0.0</td>\n",
       "      <td>0.0</td>\n",
       "      <td>0.0</td>\n",
       "      <td>0.0</td>\n",
       "      <td>0.0</td>\n",
       "      <td>0.351652</td>\n",
       "      <td>0.414013</td>\n",
       "      <td>NaN</td>\n",
       "      <td>0.479764</td>\n",
       "      <td>NaN</td>\n",
       "      <td>0.409534</td>\n",
       "      <td>0.395349</td>\n",
       "      <td>0.162029</td>\n",
       "      <td>0.434787</td>\n",
       "      <td>0.403611</td>\n",
       "      <td>0.462450</td>\n",
       "      <td>0.449472</td>\n",
       "      <td>0.158914</td>\n",
       "      <td>4.024769</td>\n",
       "      <td>13.481773</td>\n",
       "      <td>NaN</td>\n",
       "      <td>NaN</td>\n",
       "      <td>NaN</td>\n",
       "      <td>NaN</td>\n",
       "      <td>NaN</td>\n",
       "      <td>NaN</td>\n",
       "      <td>NaN</td>\n",
       "      <td>NaN</td>\n",
       "      <td>NaN</td>\n",
       "    </tr>\n",
       "    <tr>\n",
       "      <th>min</th>\n",
       "      <td>16.800000</td>\n",
       "      <td>11.600000</td>\n",
       "      <td>0.0</td>\n",
       "      <td>0.000000</td>\n",
       "      <td>0.0</td>\n",
       "      <td>0.000000</td>\n",
       "      <td>-28.500000</td>\n",
       "      <td>0.100000</td>\n",
       "      <td>0.000000</td>\n",
       "      <td>0.000000</td>\n",
       "      <td>0.0</td>\n",
       "      <td>1.0</td>\n",
       "      <td>1.0</td>\n",
       "      <td>1.0</td>\n",
       "      <td>0.0</td>\n",
       "      <td>0.000000</td>\n",
       "      <td>0.000000</td>\n",
       "      <td>NaN</td>\n",
       "      <td>0.000000</td>\n",
       "      <td>NaN</td>\n",
       "      <td>0.000000</td>\n",
       "      <td>0.000000</td>\n",
       "      <td>0.000000</td>\n",
       "      <td>0.000000</td>\n",
       "      <td>0.000000</td>\n",
       "      <td>0.000000</td>\n",
       "      <td>0.000000</td>\n",
       "      <td>0.000000</td>\n",
       "      <td>-0.600000</td>\n",
       "      <td>6.300000</td>\n",
       "      <td>NaN</td>\n",
       "      <td>NaN</td>\n",
       "      <td>NaN</td>\n",
       "      <td>NaN</td>\n",
       "      <td>NaN</td>\n",
       "      <td>NaN</td>\n",
       "      <td>NaN</td>\n",
       "      <td>NaN</td>\n",
       "      <td>NaN</td>\n",
       "    </tr>\n",
       "    <tr>\n",
       "      <th>25%</th>\n",
       "      <td>NaN</td>\n",
       "      <td>NaN</td>\n",
       "      <td>NaN</td>\n",
       "      <td>NaN</td>\n",
       "      <td>NaN</td>\n",
       "      <td>NaN</td>\n",
       "      <td>4.900000</td>\n",
       "      <td>NaN</td>\n",
       "      <td>NaN</td>\n",
       "      <td>NaN</td>\n",
       "      <td>NaN</td>\n",
       "      <td>NaN</td>\n",
       "      <td>NaN</td>\n",
       "      <td>NaN</td>\n",
       "      <td>NaN</td>\n",
       "      <td>NaN</td>\n",
       "      <td>NaN</td>\n",
       "      <td>NaN</td>\n",
       "      <td>NaN</td>\n",
       "      <td>NaN</td>\n",
       "      <td>NaN</td>\n",
       "      <td>NaN</td>\n",
       "      <td>NaN</td>\n",
       "      <td>NaN</td>\n",
       "      <td>NaN</td>\n",
       "      <td>NaN</td>\n",
       "      <td>NaN</td>\n",
       "      <td>NaN</td>\n",
       "      <td>NaN</td>\n",
       "      <td>NaN</td>\n",
       "      <td>NaN</td>\n",
       "      <td>NaN</td>\n",
       "      <td>NaN</td>\n",
       "      <td>NaN</td>\n",
       "      <td>NaN</td>\n",
       "      <td>NaN</td>\n",
       "      <td>NaN</td>\n",
       "      <td>NaN</td>\n",
       "      <td>NaN</td>\n",
       "    </tr>\n",
       "    <tr>\n",
       "      <th>50%</th>\n",
       "      <td>NaN</td>\n",
       "      <td>NaN</td>\n",
       "      <td>NaN</td>\n",
       "      <td>NaN</td>\n",
       "      <td>NaN</td>\n",
       "      <td>NaN</td>\n",
       "      <td>7.300000</td>\n",
       "      <td>NaN</td>\n",
       "      <td>NaN</td>\n",
       "      <td>NaN</td>\n",
       "      <td>NaN</td>\n",
       "      <td>NaN</td>\n",
       "      <td>NaN</td>\n",
       "      <td>NaN</td>\n",
       "      <td>NaN</td>\n",
       "      <td>NaN</td>\n",
       "      <td>NaN</td>\n",
       "      <td>NaN</td>\n",
       "      <td>NaN</td>\n",
       "      <td>NaN</td>\n",
       "      <td>NaN</td>\n",
       "      <td>NaN</td>\n",
       "      <td>NaN</td>\n",
       "      <td>NaN</td>\n",
       "      <td>NaN</td>\n",
       "      <td>NaN</td>\n",
       "      <td>NaN</td>\n",
       "      <td>NaN</td>\n",
       "      <td>NaN</td>\n",
       "      <td>NaN</td>\n",
       "      <td>NaN</td>\n",
       "      <td>NaN</td>\n",
       "      <td>NaN</td>\n",
       "      <td>NaN</td>\n",
       "      <td>NaN</td>\n",
       "      <td>NaN</td>\n",
       "      <td>NaN</td>\n",
       "      <td>NaN</td>\n",
       "      <td>NaN</td>\n",
       "    </tr>\n",
       "    <tr>\n",
       "      <th>75%</th>\n",
       "      <td>NaN</td>\n",
       "      <td>NaN</td>\n",
       "      <td>NaN</td>\n",
       "      <td>NaN</td>\n",
       "      <td>NaN</td>\n",
       "      <td>NaN</td>\n",
       "      <td>9.700000</td>\n",
       "      <td>NaN</td>\n",
       "      <td>NaN</td>\n",
       "      <td>NaN</td>\n",
       "      <td>NaN</td>\n",
       "      <td>NaN</td>\n",
       "      <td>NaN</td>\n",
       "      <td>NaN</td>\n",
       "      <td>NaN</td>\n",
       "      <td>NaN</td>\n",
       "      <td>NaN</td>\n",
       "      <td>NaN</td>\n",
       "      <td>NaN</td>\n",
       "      <td>NaN</td>\n",
       "      <td>NaN</td>\n",
       "      <td>NaN</td>\n",
       "      <td>NaN</td>\n",
       "      <td>NaN</td>\n",
       "      <td>NaN</td>\n",
       "      <td>NaN</td>\n",
       "      <td>NaN</td>\n",
       "      <td>NaN</td>\n",
       "      <td>NaN</td>\n",
       "      <td>NaN</td>\n",
       "      <td>NaN</td>\n",
       "      <td>NaN</td>\n",
       "      <td>NaN</td>\n",
       "      <td>NaN</td>\n",
       "      <td>NaN</td>\n",
       "      <td>NaN</td>\n",
       "      <td>NaN</td>\n",
       "      <td>NaN</td>\n",
       "      <td>NaN</td>\n",
       "    </tr>\n",
       "    <tr>\n",
       "      <th>max</th>\n",
       "      <td>30.000000</td>\n",
       "      <td>56.400000</td>\n",
       "      <td>0.0</td>\n",
       "      <td>1.000000</td>\n",
       "      <td>0.0</td>\n",
       "      <td>1.000000</td>\n",
       "      <td>91.500000</td>\n",
       "      <td>91.000000</td>\n",
       "      <td>87.000000</td>\n",
       "      <td>2.500000</td>\n",
       "      <td>0.0</td>\n",
       "      <td>1.0</td>\n",
       "      <td>1.0</td>\n",
       "      <td>1.0</td>\n",
       "      <td>0.0</td>\n",
       "      <td>2.000000</td>\n",
       "      <td>1.000000</td>\n",
       "      <td>NaN</td>\n",
       "      <td>2.000000</td>\n",
       "      <td>NaN</td>\n",
       "      <td>1.000000</td>\n",
       "      <td>1.000000</td>\n",
       "      <td>1.000000</td>\n",
       "      <td>1.000000</td>\n",
       "      <td>1.000000</td>\n",
       "      <td>1.000000</td>\n",
       "      <td>1.000000</td>\n",
       "      <td>1.000000</td>\n",
       "      <td>85.500000</td>\n",
       "      <td>90.000000</td>\n",
       "      <td>NaN</td>\n",
       "      <td>NaN</td>\n",
       "      <td>NaN</td>\n",
       "      <td>NaN</td>\n",
       "      <td>NaN</td>\n",
       "      <td>NaN</td>\n",
       "      <td>NaN</td>\n",
       "      <td>NaN</td>\n",
       "      <td>NaN</td>\n",
       "    </tr>\n",
       "  </tbody>\n",
       "</table>\n",
       "</div>"
      ],
      "text/plain": [
       "                A02           A03      A05           A06      A07  \\\n",
       "count  23684.000000  23684.000000  23684.0  23684.000000  23684.0   \n",
       "mean      24.003931     16.987253      0.0      0.010640      0.0   \n",
       "std        2.199530      6.958131      0.0      0.102603      0.0   \n",
       "min       16.800000     11.600000      0.0      0.000000      0.0   \n",
       "25%             NaN           NaN      NaN           NaN      NaN   \n",
       "50%             NaN           NaN      NaN           NaN      NaN   \n",
       "75%             NaN           NaN      NaN           NaN      NaN   \n",
       "max       30.000000     56.400000      0.0      1.000000      0.0   \n",
       "\n",
       "                A08           A09           A11           A15           A17  \\\n",
       "count  23684.000000  23685.000000  23684.000000  23684.000000  23684.000000   \n",
       "mean       0.077014      9.700798     18.917763     13.319845      0.284589   \n",
       "std        0.266619      7.837773     24.098587     27.925055      0.603622   \n",
       "min        0.000000    -28.500000      0.100000      0.000000      0.000000   \n",
       "25%             NaN      4.900000           NaN           NaN           NaN   \n",
       "50%             NaN      7.300000           NaN           NaN           NaN   \n",
       "75%             NaN      9.700000           NaN           NaN           NaN   \n",
       "max        1.000000     91.500000     91.000000     87.000000      2.500000   \n",
       "\n",
       "           A18      A19      A20      A21      A22           A23  \\\n",
       "count  23684.0  23684.0  23684.0  23684.0  23684.0  23684.000000   \n",
       "mean       0.0      1.0      1.0      1.0      0.0      0.143599   \n",
       "std        0.0      0.0      0.0      0.0      0.0      0.351652   \n",
       "min        0.0      1.0      1.0      1.0      0.0      0.000000   \n",
       "25%        NaN      NaN      NaN      NaN      NaN           NaN   \n",
       "50%        NaN      NaN      NaN      NaN      NaN           NaN   \n",
       "75%        NaN      NaN      NaN      NaN      NaN           NaN   \n",
       "max        0.0      1.0      1.0      1.0      0.0      2.000000   \n",
       "\n",
       "                A24  A25           A26  A27           A28           A29  \\\n",
       "count  23684.000000  0.0  23684.000000  0.0  23684.000000  23684.000000   \n",
       "mean       0.219642  NaN      0.350152  NaN      0.213140      0.193886   \n",
       "std        0.414013  NaN      0.479764  NaN      0.409534      0.395349   \n",
       "min        0.000000  NaN      0.000000  NaN      0.000000      0.000000   \n",
       "25%             NaN  NaN           NaN  NaN           NaN           NaN   \n",
       "50%             NaN  NaN           NaN  NaN           NaN           NaN   \n",
       "75%             NaN  NaN           NaN  NaN           NaN           NaN   \n",
       "max        1.000000  NaN      2.000000  NaN      1.000000      1.000000   \n",
       "\n",
       "                A30           A31           A32           A33           A34  \\\n",
       "count  23684.000000  23684.000000  23684.000000  23684.000000  23684.000000   \n",
       "mean       0.026980      0.253082      0.204864      0.309872      0.280949   \n",
       "std        0.162029      0.434787      0.403611      0.462450      0.449472   \n",
       "min        0.000000      0.000000      0.000000      0.000000      0.000000   \n",
       "25%             NaN           NaN           NaN           NaN           NaN   \n",
       "50%             NaN           NaN           NaN           NaN           NaN   \n",
       "75%             NaN           NaN           NaN           NaN           NaN   \n",
       "max        1.000000      1.000000      1.000000      1.000000      1.000000   \n",
       "\n",
       "                A35           A38           A39  A42  A43  A44  A45  A46  A47  \\\n",
       "count  23684.000000  23684.000000  23684.000000  0.0  0.0  0.0  0.0  0.0  0.0   \n",
       "mean       0.025925     28.372074     55.487299  NaN  NaN  NaN  NaN  NaN  NaN   \n",
       "std        0.158914      4.024769     13.481773  NaN  NaN  NaN  NaN  NaN  NaN   \n",
       "min        0.000000     -0.600000      6.300000  NaN  NaN  NaN  NaN  NaN  NaN   \n",
       "25%             NaN           NaN           NaN  NaN  NaN  NaN  NaN  NaN  NaN   \n",
       "50%             NaN           NaN           NaN  NaN  NaN  NaN  NaN  NaN  NaN   \n",
       "75%             NaN           NaN           NaN  NaN  NaN  NaN  NaN  NaN  NaN   \n",
       "max        1.000000     85.500000     90.000000  NaN  NaN  NaN  NaN  NaN  NaN   \n",
       "\n",
       "       A48  A49  A50  \n",
       "count  0.0  0.0  0.0  \n",
       "mean   NaN  NaN  NaN  \n",
       "std    NaN  NaN  NaN  \n",
       "min    NaN  NaN  NaN  \n",
       "25%    NaN  NaN  NaN  \n",
       "50%    NaN  NaN  NaN  \n",
       "75%    NaN  NaN  NaN  \n",
       "max    NaN  NaN  NaN  "
      ]
     },
     "execution_count": 9,
     "metadata": {},
     "output_type": "execute_result"
    }
   ],
   "source": [
    "df_old[df_old.columns[2:]].describe()"
   ]
  },
  {
   "cell_type": "code",
   "execution_count": 4,
   "metadata": {
    "collapsed": false,
    "nbpresent": {
     "id": "037dd613-dec3-4bdd-84ba-a6a82642a75a"
    },
    "slideshow": {
     "slide_type": "slide"
    }
   },
   "outputs": [
    {
     "data": {
      "text/html": [
       "<div>\n",
       "<table border=\"1\" class=\"dataframe\">\n",
       "  <thead>\n",
       "    <tr style=\"text-align: right;\">\n",
       "      <th></th>\n",
       "      <th>DATETIME</th>\n",
       "      <th>DC BUS VOLTAGE</th>\n",
       "      <th>BATTERY VOLTAGE</th>\n",
       "      <th>LOAD CURRENT</th>\n",
       "      <th>HIGH PRESSURE</th>\n",
       "      <th>LOW PRESSURE</th>\n",
       "      <th>MOTOR PROTECTOR</th>\n",
       "      <th>GRID AVAILABLE</th>\n",
       "      <th>ROOM TEMP</th>\n",
       "      <th>AMB TEMP</th>\n",
       "      <th>AMB HUMIDITY</th>\n",
       "      <th>TES TEMP 1</th>\n",
       "      <th>TES TEMP 2</th>\n",
       "      <th>ROOM HUMIDITY</th>\n",
       "      <th>FREQUENCY</th>\n",
       "      <th>DRIVE CURRENT</th>\n",
       "      <th>DRIVE POWER</th>\n",
       "      <th>DRIVE FAULT</th>\n",
       "      <th>POWER</th>\n",
       "      <th>CROP</th>\n",
       "      <th>MODE</th>\n",
       "      <th>POWER INPUT</th>\n",
       "      <th>FAN VALVE</th>\n",
       "      <th>TES VALVE 1</th>\n",
       "      <th>FAN 1</th>\n",
       "      <th>CDU FAN 1</th>\n",
       "      <th>CDU FAN 2</th>\n",
       "      <th>GRID RELAY</th>\n",
       "      <th>SOLAR RELAY</th>\n",
       "      <th>COMPRESSOR</th>\n",
       "      <th>PANEL BOX FAN</th>\n",
       "      <th>HUMIDIFIER</th>\n",
       "      <th>HEATER</th>\n",
       "      <th>TANK FULL</th>\n",
       "      <th>DOOR OPEN</th>\n",
       "      <th>PRESSURE</th>\n",
       "    </tr>\n",
       "  </thead>\n",
       "  <tbody>\n",
       "    <tr>\n",
       "      <th>0</th>\n",
       "      <td>2015-10-01 00:00:18</td>\n",
       "      <td>4.6</td>\n",
       "      <td>23.5</td>\n",
       "      <td>11.8</td>\n",
       "      <td>0.0</td>\n",
       "      <td>0.0</td>\n",
       "      <td>0.0</td>\n",
       "      <td>0.0</td>\n",
       "      <td>9.3</td>\n",
       "      <td>27.2</td>\n",
       "      <td>29.3</td>\n",
       "      <td>2.7</td>\n",
       "      <td>1.6</td>\n",
       "      <td>79.8</td>\n",
       "      <td>0.0</td>\n",
       "      <td>0.0</td>\n",
       "      <td>0.0</td>\n",
       "      <td>0.0</td>\n",
       "      <td>1.0</td>\n",
       "      <td>1.0</td>\n",
       "      <td>1.0</td>\n",
       "      <td>0.0</td>\n",
       "      <td>0.0</td>\n",
       "      <td>0.0</td>\n",
       "      <td>0.0</td>\n",
       "      <td>0.0</td>\n",
       "      <td>0.0</td>\n",
       "      <td>0.0</td>\n",
       "      <td>0.0</td>\n",
       "      <td>0.0</td>\n",
       "      <td>0.0</td>\n",
       "      <td>0.0</td>\n",
       "      <td>0.0</td>\n",
       "      <td>1.0</td>\n",
       "      <td>0.0</td>\n",
       "      <td>27.8</td>\n",
       "    </tr>\n",
       "    <tr>\n",
       "      <th>1</th>\n",
       "      <td>2015-10-01 00:01:48</td>\n",
       "      <td>4.6</td>\n",
       "      <td>23.7</td>\n",
       "      <td>11.8</td>\n",
       "      <td>0.0</td>\n",
       "      <td>0.0</td>\n",
       "      <td>0.0</td>\n",
       "      <td>0.0</td>\n",
       "      <td>9.3</td>\n",
       "      <td>27.2</td>\n",
       "      <td>29.5</td>\n",
       "      <td>2.7</td>\n",
       "      <td>1.6</td>\n",
       "      <td>80.4</td>\n",
       "      <td>0.0</td>\n",
       "      <td>0.0</td>\n",
       "      <td>0.0</td>\n",
       "      <td>0.0</td>\n",
       "      <td>1.0</td>\n",
       "      <td>1.0</td>\n",
       "      <td>1.0</td>\n",
       "      <td>0.0</td>\n",
       "      <td>0.0</td>\n",
       "      <td>0.0</td>\n",
       "      <td>0.0</td>\n",
       "      <td>0.0</td>\n",
       "      <td>0.0</td>\n",
       "      <td>0.0</td>\n",
       "      <td>0.0</td>\n",
       "      <td>0.0</td>\n",
       "      <td>0.0</td>\n",
       "      <td>0.0</td>\n",
       "      <td>0.0</td>\n",
       "      <td>1.0</td>\n",
       "      <td>0.0</td>\n",
       "      <td>27.8</td>\n",
       "    </tr>\n",
       "    <tr>\n",
       "      <th>2</th>\n",
       "      <td>2015-10-01 00:03:18</td>\n",
       "      <td>3.7</td>\n",
       "      <td>23.5</td>\n",
       "      <td>11.8</td>\n",
       "      <td>0.0</td>\n",
       "      <td>0.0</td>\n",
       "      <td>0.0</td>\n",
       "      <td>0.0</td>\n",
       "      <td>9.3</td>\n",
       "      <td>27.2</td>\n",
       "      <td>29.5</td>\n",
       "      <td>2.7</td>\n",
       "      <td>1.6</td>\n",
       "      <td>79.0</td>\n",
       "      <td>0.0</td>\n",
       "      <td>0.0</td>\n",
       "      <td>0.0</td>\n",
       "      <td>0.0</td>\n",
       "      <td>1.0</td>\n",
       "      <td>1.0</td>\n",
       "      <td>1.0</td>\n",
       "      <td>0.0</td>\n",
       "      <td>0.0</td>\n",
       "      <td>0.0</td>\n",
       "      <td>0.0</td>\n",
       "      <td>0.0</td>\n",
       "      <td>0.0</td>\n",
       "      <td>0.0</td>\n",
       "      <td>0.0</td>\n",
       "      <td>0.0</td>\n",
       "      <td>0.0</td>\n",
       "      <td>0.0</td>\n",
       "      <td>0.0</td>\n",
       "      <td>1.0</td>\n",
       "      <td>0.0</td>\n",
       "      <td>27.8</td>\n",
       "    </tr>\n",
       "    <tr>\n",
       "      <th>3</th>\n",
       "      <td>2015-10-01 00:04:48</td>\n",
       "      <td>4.6</td>\n",
       "      <td>23.7</td>\n",
       "      <td>11.8</td>\n",
       "      <td>0.0</td>\n",
       "      <td>0.0</td>\n",
       "      <td>0.0</td>\n",
       "      <td>0.0</td>\n",
       "      <td>9.4</td>\n",
       "      <td>27.2</td>\n",
       "      <td>29.3</td>\n",
       "      <td>2.9</td>\n",
       "      <td>1.6</td>\n",
       "      <td>79.5</td>\n",
       "      <td>0.0</td>\n",
       "      <td>0.0</td>\n",
       "      <td>0.0</td>\n",
       "      <td>0.0</td>\n",
       "      <td>1.0</td>\n",
       "      <td>1.0</td>\n",
       "      <td>1.0</td>\n",
       "      <td>0.0</td>\n",
       "      <td>0.0</td>\n",
       "      <td>0.0</td>\n",
       "      <td>0.0</td>\n",
       "      <td>0.0</td>\n",
       "      <td>0.0</td>\n",
       "      <td>0.0</td>\n",
       "      <td>0.0</td>\n",
       "      <td>0.0</td>\n",
       "      <td>0.0</td>\n",
       "      <td>0.0</td>\n",
       "      <td>0.0</td>\n",
       "      <td>1.0</td>\n",
       "      <td>0.0</td>\n",
       "      <td>27.8</td>\n",
       "    </tr>\n",
       "    <tr>\n",
       "      <th>4</th>\n",
       "      <td>2015-10-01 00:06:18</td>\n",
       "      <td>4.6</td>\n",
       "      <td>23.5</td>\n",
       "      <td>11.8</td>\n",
       "      <td>0.0</td>\n",
       "      <td>0.0</td>\n",
       "      <td>0.0</td>\n",
       "      <td>0.0</td>\n",
       "      <td>9.3</td>\n",
       "      <td>27.2</td>\n",
       "      <td>29.3</td>\n",
       "      <td>2.8</td>\n",
       "      <td>1.6</td>\n",
       "      <td>78.9</td>\n",
       "      <td>0.0</td>\n",
       "      <td>0.0</td>\n",
       "      <td>0.0</td>\n",
       "      <td>0.0</td>\n",
       "      <td>1.0</td>\n",
       "      <td>1.0</td>\n",
       "      <td>1.0</td>\n",
       "      <td>0.0</td>\n",
       "      <td>0.0</td>\n",
       "      <td>0.0</td>\n",
       "      <td>0.0</td>\n",
       "      <td>0.0</td>\n",
       "      <td>0.0</td>\n",
       "      <td>0.0</td>\n",
       "      <td>0.0</td>\n",
       "      <td>0.0</td>\n",
       "      <td>0.0</td>\n",
       "      <td>0.0</td>\n",
       "      <td>0.0</td>\n",
       "      <td>1.0</td>\n",
       "      <td>0.0</td>\n",
       "      <td>27.8</td>\n",
       "    </tr>\n",
       "  </tbody>\n",
       "</table>\n",
       "</div>"
      ],
      "text/plain": [
       "              DATETIME  DC BUS VOLTAGE  BATTERY VOLTAGE  LOAD CURRENT  \\\n",
       "0  2015-10-01 00:00:18             4.6             23.5          11.8   \n",
       "1  2015-10-01 00:01:48             4.6             23.7          11.8   \n",
       "2  2015-10-01 00:03:18             3.7             23.5          11.8   \n",
       "3  2015-10-01 00:04:48             4.6             23.7          11.8   \n",
       "4  2015-10-01 00:06:18             4.6             23.5          11.8   \n",
       "\n",
       "   HIGH PRESSURE  LOW PRESSURE  MOTOR PROTECTOR  GRID AVAILABLE  ROOM TEMP  \\\n",
       "0            0.0           0.0              0.0             0.0        9.3   \n",
       "1            0.0           0.0              0.0             0.0        9.3   \n",
       "2            0.0           0.0              0.0             0.0        9.3   \n",
       "3            0.0           0.0              0.0             0.0        9.4   \n",
       "4            0.0           0.0              0.0             0.0        9.3   \n",
       "\n",
       "   AMB TEMP  AMB HUMIDITY  TES TEMP 1  TES TEMP 2  ROOM HUMIDITY  FREQUENCY  \\\n",
       "0      27.2          29.3         2.7         1.6           79.8        0.0   \n",
       "1      27.2          29.5         2.7         1.6           80.4        0.0   \n",
       "2      27.2          29.5         2.7         1.6           79.0        0.0   \n",
       "3      27.2          29.3         2.9         1.6           79.5        0.0   \n",
       "4      27.2          29.3         2.8         1.6           78.9        0.0   \n",
       "\n",
       "   DRIVE CURRENT  DRIVE POWER  DRIVE FAULT  POWER  CROP  MODE  POWER INPUT  \\\n",
       "0            0.0          0.0          0.0    1.0   1.0   1.0          0.0   \n",
       "1            0.0          0.0          0.0    1.0   1.0   1.0          0.0   \n",
       "2            0.0          0.0          0.0    1.0   1.0   1.0          0.0   \n",
       "3            0.0          0.0          0.0    1.0   1.0   1.0          0.0   \n",
       "4            0.0          0.0          0.0    1.0   1.0   1.0          0.0   \n",
       "\n",
       "   FAN VALVE  TES VALVE 1  FAN 1  CDU FAN 1  CDU FAN 2  GRID RELAY  \\\n",
       "0        0.0          0.0    0.0        0.0        0.0         0.0   \n",
       "1        0.0          0.0    0.0        0.0        0.0         0.0   \n",
       "2        0.0          0.0    0.0        0.0        0.0         0.0   \n",
       "3        0.0          0.0    0.0        0.0        0.0         0.0   \n",
       "4        0.0          0.0    0.0        0.0        0.0         0.0   \n",
       "\n",
       "   SOLAR RELAY  COMPRESSOR  PANEL BOX FAN  HUMIDIFIER  HEATER  TANK FULL  \\\n",
       "0          0.0         0.0            0.0         0.0     0.0        1.0   \n",
       "1          0.0         0.0            0.0         0.0     0.0        1.0   \n",
       "2          0.0         0.0            0.0         0.0     0.0        1.0   \n",
       "3          0.0         0.0            0.0         0.0     0.0        1.0   \n",
       "4          0.0         0.0            0.0         0.0     0.0        1.0   \n",
       "\n",
       "   DOOR OPEN  PRESSURE  \n",
       "0        0.0      27.8  \n",
       "1        0.0      27.8  \n",
       "2        0.0      27.8  \n",
       "3        0.0      27.8  \n",
       "4        0.0      27.8  "
      ]
     },
     "execution_count": 4,
     "metadata": {},
     "output_type": "execute_result"
    }
   ],
   "source": [
    "# Loading my cleaned dataset\n",
    "\n",
    "path = 'C:\\Users\\Shreya Khurana\\MCS_data.csv'\n",
    "data = pd.read_csv(path)\n",
    "data.head()"
   ]
  },
  {
   "cell_type": "markdown",
   "metadata": {
    "nbpresent": {
     "id": "7abc4742-e42b-447a-88e5-dda4acf2f172"
    },
    "slideshow": {
     "slide_type": "slide"
    }
   },
   "source": [
    "One of the first things as a data analyst that you do is check whether the data you have is accurate, reliable and exhaustive.\n",
    "\n",
    "I've cleaned this up, so you don't see any ill-formatted, NaN values etc., but data wrangling is one aspect that is essential to any kind of modelling because a great dataset + mediocre model implies great predictive accuracy."
   ]
  },
  {
   "cell_type": "code",
   "execution_count": 6,
   "metadata": {
    "collapsed": false,
    "nbpresent": {
     "id": "4c55d45f-1aaa-47d0-9d8a-6b2d3ca14a9e"
    },
    "slideshow": {
     "slide_type": "subslide"
    }
   },
   "outputs": [
    {
     "data": {
      "text/plain": [
       "DATETIME           0\n",
       "DC BUS VOLTAGE     0\n",
       "BATTERY VOLTAGE    0\n",
       "LOAD CURRENT       0\n",
       "HIGH PRESSURE      0\n",
       "LOW PRESSURE       0\n",
       "MOTOR PROTECTOR    0\n",
       "GRID AVAILABLE     0\n",
       "ROOM TEMP          0\n",
       "AMB TEMP           0\n",
       "AMB HUMIDITY       0\n",
       "TES TEMP 1         0\n",
       "TES TEMP 2         0\n",
       "ROOM HUMIDITY      0\n",
       "FREQUENCY          0\n",
       "DRIVE CURRENT      0\n",
       "DRIVE POWER        0\n",
       "DRIVE FAULT        0\n",
       "POWER              0\n",
       "CROP               0\n",
       "MODE               0\n",
       "POWER INPUT        0\n",
       "FAN VALVE          0\n",
       "TES VALVE 1        0\n",
       "FAN 1              0\n",
       "CDU FAN 1          0\n",
       "CDU FAN 2          0\n",
       "GRID RELAY         0\n",
       "SOLAR RELAY        0\n",
       "COMPRESSOR         0\n",
       "PANEL BOX FAN      0\n",
       "HUMIDIFIER         0\n",
       "HEATER             0\n",
       "TANK FULL          0\n",
       "DOOR OPEN          0\n",
       "PRESSURE           0\n",
       "dtype: int64"
      ]
     },
     "execution_count": 6,
     "metadata": {},
     "output_type": "execute_result"
    }
   ],
   "source": [
    "data.apply(lambda x:sum(x.isnull()))"
   ]
  },
  {
   "cell_type": "code",
   "execution_count": 7,
   "metadata": {
    "collapsed": false,
    "nbpresent": {
     "id": "a6a2d5bc-5fe3-46ab-ba87-2ec0d161a759"
    }
   },
   "outputs": [
    {
     "data": {
      "text/plain": [
       "[('DATETIME', dtype('O')),\n",
       " ('DC BUS VOLTAGE', dtype('float64')),\n",
       " ('BATTERY VOLTAGE', dtype('float64')),\n",
       " ('LOAD CURRENT', dtype('float64')),\n",
       " ('HIGH PRESSURE', dtype('float64')),\n",
       " ('LOW PRESSURE', dtype('float64')),\n",
       " ('MOTOR PROTECTOR', dtype('float64')),\n",
       " ('GRID AVAILABLE', dtype('float64')),\n",
       " ('ROOM TEMP', dtype('float64')),\n",
       " ('AMB TEMP', dtype('float64')),\n",
       " ('AMB HUMIDITY', dtype('float64')),\n",
       " ('TES TEMP 1', dtype('float64')),\n",
       " ('TES TEMP 2', dtype('float64')),\n",
       " ('ROOM HUMIDITY', dtype('float64')),\n",
       " ('FREQUENCY', dtype('float64')),\n",
       " ('DRIVE CURRENT', dtype('float64')),\n",
       " ('DRIVE POWER', dtype('float64')),\n",
       " ('DRIVE FAULT', dtype('float64')),\n",
       " ('POWER', dtype('float64')),\n",
       " ('CROP', dtype('float64')),\n",
       " ('MODE', dtype('float64')),\n",
       " ('POWER INPUT', dtype('float64')),\n",
       " ('FAN VALVE', dtype('float64')),\n",
       " ('TES VALVE 1', dtype('float64')),\n",
       " ('FAN 1', dtype('float64')),\n",
       " ('CDU FAN 1', dtype('float64')),\n",
       " ('CDU FAN 2', dtype('float64')),\n",
       " ('GRID RELAY', dtype('float64')),\n",
       " ('SOLAR RELAY', dtype('float64')),\n",
       " ('COMPRESSOR', dtype('float64')),\n",
       " ('PANEL BOX FAN', dtype('float64')),\n",
       " ('HUMIDIFIER', dtype('float64')),\n",
       " ('HEATER', dtype('float64')),\n",
       " ('TANK FULL', dtype('float64')),\n",
       " ('DOOR OPEN', dtype('float64')),\n",
       " ('PRESSURE', dtype('float64'))]"
      ]
     },
     "execution_count": 7,
     "metadata": {},
     "output_type": "execute_result"
    }
   ],
   "source": [
    "zip(data.columns, [data[col].dtype for col in list(data.columns)])"
   ]
  },
  {
   "cell_type": "markdown",
   "metadata": {
    "nbpresent": {
     "id": "8def54da-b18e-47cb-827b-1603d6f34a61"
    }
   },
   "source": [
    "** Let us check if any of the variables have a correlation with the room temperature**"
   ]
  },
  {
   "cell_type": "code",
   "execution_count": 14,
   "metadata": {
    "collapsed": false,
    "nbpresent": {
     "id": "9855f3ac-642b-4273-b53a-b032d32f946c"
    }
   },
   "outputs": [
    {
     "data": {
      "text/plain": [
       "[('DC BUS VOLTAGE', -0.14958591554903336),\n",
       " ('BATTERY VOLTAGE', 0.070214621274849412),\n",
       " ('LOAD CURRENT', -0.26486040768220598),\n",
       " ('HIGH PRESSURE', nan),\n",
       " ('LOW PRESSURE', 0.061116586496371625),\n",
       " ('MOTOR PROTECTOR', nan),\n",
       " ('GRID AVAILABLE', -0.095864751692488648),\n",
       " ('ROOM TEMP', 1.0),\n",
       " ('AMB TEMP', -0.11854553463557826),\n",
       " ('AMB HUMIDITY', -0.078596612722393183),\n",
       " ('TES TEMP 1', 0.94399950480437222),\n",
       " ('TES TEMP 2', 0.95144566790502361),\n",
       " ('ROOM HUMIDITY', 0.075446805313178364),\n",
       " ('FREQUENCY', -0.41028232397489695),\n",
       " ('DRIVE CURRENT', -0.42236532480051808),\n",
       " ('DRIVE POWER', -0.41853328697225517),\n",
       " ('DRIVE FAULT', nan),\n",
       " ('POWER', nan),\n",
       " ('CROP', nan),\n",
       " ('MODE', nan),\n",
       " ('POWER INPUT', nan),\n",
       " ('FAN VALVE', -0.23709147041293144),\n",
       " ('TES VALVE 1', -0.40187736376075933),\n",
       " ('FAN 1', 0.10054416624832979),\n",
       " ('CDU FAN 1', -0.40149927673863089),\n",
       " ('CDU FAN 2', -0.42414647802829625),\n",
       " ('GRID RELAY', -0.059637375526715414),\n",
       " ('SOLAR RELAY', -0.37712624670971828),\n",
       " ('COMPRESSOR', -0.40152108312015022),\n",
       " ('PANEL BOX FAN', -0.19032709936638237),\n",
       " ('HUMIDIFIER', -0.086781169588652188),\n",
       " ('HEATER', 0.029662714059195773),\n",
       " ('TANK FULL', -0.012184545552587724),\n",
       " ('DOOR OPEN', 0.075831113733115157),\n",
       " ('PRESSURE', -0.0045264448232874331)]"
      ]
     },
     "execution_count": 14,
     "metadata": {},
     "output_type": "execute_result"
    }
   ],
   "source": [
    "zip(list(data.columns)[1:], [ss.pearsonr(data[col], data['ROOM TEMP'])[0] for col in list(data.columns)[1:]])"
   ]
  },
  {
   "cell_type": "code",
   "execution_count": 16,
   "metadata": {
    "collapsed": false,
    "nbpresent": {
     "id": "30a47bf2-b1df-4a68-a101-76e662b53dd1"
    }
   },
   "outputs": [
    {
     "data": {
      "image/png": "[encoded data removed]",
      "text/plain": [
       "<matplotlib.figure.Figure at 0xd010080>"
      ]
     },
     "metadata": {},
     "output_type": "display_data"
    }
   ],
   "source": [
    "data.boxplot(column='ROOM TEMP',by='DOOR OPEN',figsize=(8,8) )\n",
    "plt.ylabel('Room Temperature');"
   ]
  },
  {
   "cell_type": "code",
   "execution_count": 18,
   "metadata": {
    "collapsed": true,
    "nbpresent": {
     "id": "3b57171e-d804-4f13-95ce-fc208307935b"
    }
   },
   "outputs": [],
   "source": [
    "data['DATETIME'] = pd.to_datetime(data['DATETIME'])"
   ]
  },
  {
   "cell_type": "code",
   "execution_count": 25,
   "metadata": {
    "collapsed": false,
    "nbpresent": {
     "id": "2b3dddc7-e2db-43c4-9c00-2246e2d37378"
    }
   },
   "outputs": [
    {
     "data": {
      "image/png": "[encoded data removed]",
      "text/plain": [
       "<matplotlib.figure.Figure at 0x10d3d7b8>"
      ]
     },
     "metadata": {},
     "output_type": "display_data"
    }
   ],
   "source": [
    "high = data['ROOM TEMP'][data['ROOM TEMP'] < 0].index\n",
    "high = list(high)\n",
    "\n",
    "plt.figure(figsize=(20,6))\n",
    "plt.plot(data['DATETIME'], data['ROOM TEMP'], '-rD', label='Extremes', markevery= high);\n",
    "plt.title('Room Temp vs Time');\n",
    "plt.xlabel('Date');\n",
    "plt.ylabel('Room Temperature');"
   ]
  },
  {
   "cell_type": "markdown",
   "metadata": {
    "nbpresent": {
     "id": "bb46d35d-f721-4757-8abe-5e913b024754"
    }
   },
   "source": [
    "Some observations:\n",
    "\n",
    "1. Why a sudden jump from 8th Oct to 14th Oct?\n",
    "2. Local vs Global anomalies\n",
    "3. Gradual onset vs sudden\n",
    "4. Seasonality\n",
    "\n",
    "Let us see the distribution of the room temperature"
   ]
  },
  {
   "cell_type": "code",
   "execution_count": 32,
   "metadata": {
    "collapsed": false,
    "nbpresent": {
     "id": "548a2d8d-12d6-456f-be5b-9703db07f5c7"
    }
   },
   "outputs": [
    {
     "data": {
      "image/png": "[encoded data removed]",
      "text/plain": [
       "<matplotlib.figure.Figure at 0x1120d898>"
      ]
     },
     "metadata": {},
     "output_type": "display_data"
    }
   ],
   "source": [
    "hist_temp = data['ROOM TEMP'].hist(bins=15, figsize=(10,5))\n",
    "hist_temp.set_xticks(range(-5,15));\n",
    "plt.title('Distribution of room temperature');"
   ]
  },
  {
   "cell_type": "markdown",
   "metadata": {
    "nbpresent": {
     "id": "0e834091-8ea8-47ac-a53b-f646c19db2b9"
    }
   },
   "source": [
    "What if we want to find out how the room temp varies according to time each day? Does it vary across each hour? "
   ]
  },
  {
   "cell_type": "code",
   "execution_count": 36,
   "metadata": {
    "collapsed": false,
    "nbpresent": {
     "id": "7e0cd87a-6dad-4fdb-ae59-36cef91c0557"
    }
   },
   "outputs": [
    {
     "data": {
      "image/png": "[encoded data removed]",
      "text/plain": [
       "<matplotlib.figure.Figure at 0xa0cb390>"
      ]
     },
     "metadata": {},
     "output_type": "display_data"
    }
   ],
   "source": [
    "data['HOUR'] = data['DATETIME'].apply(lambda x: x.hour)\n",
    "x = data['HOUR'].sort_values().unique()\n",
    "y = data.groupby('HOUR').aggregate(np.mean)['ROOM TEMP']\n",
    "drvc = data.groupby('HOUR').aggregate(np.mean)['DRIVE CURRENT']\n",
    "plt.figure(figsize=(20,7))\n",
    "plt.plot(list(x), y, label='Room temp')\n",
    "plt.plot(list(x), drvc, label='Drive current')\n",
    "plt.plot(list(x), np.ones(len(y))*7, 'k')\n",
    "plt.title('Averaged Room Temp vs Time');\n",
    "plt.xlabel('Hour');\n",
    "plt.ylabel('Room Temperature');\n",
    "plt.legend();"
   ]
  },
  {
   "cell_type": "markdown",
   "metadata": {
    "nbpresent": {
     "id": "a4359baa-6123-4ab2-86cd-2396b17e210a"
    }
   },
   "source": [
    "## Leak Detection in a Micro cold storage"
   ]
  },
  {
   "cell_type": "markdown",
   "metadata": {
    "nbpresent": {
     "id": "40039747-1d42-4731-a4b3-31f3f9c4555f"
    }
   },
   "source": [
    "We need to know the context in which we're working.\n",
    "\n",
    "Why do we need this? To have an intuition about the variables we are working with."
   ]
  },
  {
   "cell_type": "markdown",
   "metadata": {
    "nbpresent": {
     "id": "11960bca-713a-49a3-b045-021f5ad05a4f"
    }
   },
   "source": [
    "To study a leak, we need to look at the data from October 23rd to Nov 1st.\n",
    "\n",
    "Let us look at three variables:\n",
    "\n",
    "   * Room temp\n",
    "   * Low Pressure\n",
    "   * Drive current "
   ]
  },
  {
   "cell_type": "code",
   "execution_count": 61,
   "metadata": {
    "collapsed": false,
    "nbpresent": {
     "id": "a8094d7e-30bb-45e1-af98-93e2be4b718b"
    }
   },
   "outputs": [
    {
     "data": {
      "image/png": "[encoded data removed]",
      "text/plain": [
       "<matplotlib.figure.Figure at 0x11292c50>"
      ]
     },
     "metadata": {},
     "output_type": "display_data"
    }
   ],
   "source": [
    "df_leak = data[data['DATETIME'] > datetime.date(2015, 10, 17)]\n",
    "\n",
    "plt.figure(figsize=(20,6))\n",
    "plt.plot(df_leak['DATETIME'], df_leak['ROOM TEMP'], '--')\n",
    "plt.plot(df_leak['DATETIME'], df_leak['DRIVE CURRENT']);\n",
    "plt.scatter(list(df_leak['DATETIME']), df_leak['LOW PRESSURE']*20, marker=',', s=20, color='g')\n",
    "plt.title('Leak Data');\n",
    "plt.xlabel('Date');\n",
    "plt.legend();"
   ]
  },
  {
   "cell_type": "markdown",
   "metadata": {
    "nbpresent": {
     "id": "e3ea5097-b40a-405d-a4d5-4ff8b8f236cb"
    }
   },
   "source": [
    "Our Drive current goes down, we hit an LP and so we know that we have a leak.\n",
    "\n",
    "But to predict it beforehand is where we need the power of machine learning, that can learn patterns across time. This is also where Recurrent Neural Networks work their magic."
   ]
  }
 ],
 "metadata": {
  "anaconda-cloud": {},
  "celltoolbar": "Slideshow",
  "kernelspec": {
   "display_name": "Python [Root]",
   "language": "python",
   "name": "Python [Root]"
  },
  "language_info": {
   "codemirror_mode": {
    "name": "ipython",
    "version": 2
   },
   "file_extension": ".py",
   "mimetype": "text/x-python",
   "name": "python",
   "nbconvert_exporter": "python",
   "pygments_lexer": "ipython2",
   "version": "2.7.12"
  },
  "nbpresent": {
   "slides": {
    "07126991-8723-4a12-81c2-0bf94882858a": {
     "id": "07126991-8723-4a12-81c2-0bf94882858a",
     "prev": "0db31374-b971-4740-9e3e-c82b4e7919d5",
     "regions": {
      "a59824b9-ee3a-4752-95dd-8b18780ed0c4": {
       "attrs": {
        "height": 0.8,
        "width": 0.8,
        "x": 0.1,
        "y": 0.1
       },
       "content": {
        "cell": "d44f6f63-cc0c-40f0-9b29-c5c38dc3d2c9",
        "part": "whole"
       },
       "id": "a59824b9-ee3a-4752-95dd-8b18780ed0c4"
      }
     }
    },
    "0db31374-b971-4740-9e3e-c82b4e7919d5": {
     "id": "0db31374-b971-4740-9e3e-c82b4e7919d5",
     "prev": "825619a1-add3-4e95-b343-4f8818dfeb78",
     "regions": {
      "7e4c5ca4-0601-4261-847e-263fb02c91a3": {
       "attrs": {
        "height": 0.8,
        "width": 0.8,
        "x": 0.1,
        "y": 0.1
       },
       "content": {
        "cell": "782f5ec3-c104-46df-9482-63ebdc84ab64",
        "part": "whole"
       },
       "id": "7e4c5ca4-0601-4261-847e-263fb02c91a3"
      }
     }
    },
    "0fc84d8a-4b3b-4d46-9881-f2a1b37b05e5": {
     "id": "0fc84d8a-4b3b-4d46-9881-f2a1b37b05e5",
     "prev": "1c0ea2f0-95b4-4954-a823-37f3413cede5",
     "regions": {
      "6cd6722b-43dd-4d2e-97cd-06edc072ef71": {
       "attrs": {
        "height": 0.8,
        "width": 0.8,
        "x": 0.1,
        "y": 0.1
       },
       "content": {
        "cell": "d91466d1-b077-4a10-8a6b-30e7790c945b",
        "part": "whole"
       },
       "id": "6cd6722b-43dd-4d2e-97cd-06edc072ef71"
      }
     }
    },
    "0ff0c754-7136-43d4-919e-669473bc9524": {
     "id": "0ff0c754-7136-43d4-919e-669473bc9524",
     "prev": "578deeae-1054-4e05-85d0-eeb40ae9e797",
     "regions": {
      "d9a0c06e-fd0b-41ad-9036-0cf33e8e6ed2": {
       "attrs": {
        "height": 0.8,
        "width": 0.8,
        "x": 0.1,
        "y": 0.1
       },
       "content": {
        "cell": "0e834091-8ea8-47ac-a53b-f646c19db2b9",
        "part": "whole"
       },
       "id": "d9a0c06e-fd0b-41ad-9036-0cf33e8e6ed2"
      }
     }
    },
    "105eef24-a6c1-458c-a03a-260d44d147ad": {
     "id": "105eef24-a6c1-458c-a03a-260d44d147ad",
     "prev": "b0732df3-5d3a-456a-a201-9a453c1c9761",
     "regions": {
      "65885c3d-92d6-4be3-a447-582d5e76dc96": {
       "attrs": {
        "height": 0.8,
        "width": 0.8,
        "x": 0.1,
        "y": 0.1
       },
       "content": {
        "cell": "918a38ec-853f-4920-aad3-d5a1dfda1c82",
        "part": "whole"
       },
       "id": "65885c3d-92d6-4be3-a447-582d5e76dc96"
      }
     }
    },
    "1c0ea2f0-95b4-4954-a823-37f3413cede5": {
     "id": "1c0ea2f0-95b4-4954-a823-37f3413cede5",
     "prev": null,
     "regions": {
      "f0101716-3aac-469a-953b-bdb9ae70b106": {
       "attrs": {
        "height": 0.8,
        "width": 0.8,
        "x": 0.1,
        "y": 0.1
       },
       "content": {
        "cell": "d91466d1-b077-4a10-8a6b-30e7790c945b",
        "part": "whole"
       },
       "id": "f0101716-3aac-469a-953b-bdb9ae70b106"
      }
     }
    },
    "1f91ecb6-b676-4548-9874-65042899e080": {
     "id": "1f91ecb6-b676-4548-9874-65042899e080",
     "prev": "c9d60455-c611-4227-9150-e20a0f13be07",
     "regions": {
      "2938bad7-03e4-4bb5-850e-ec265694c187": {
       "attrs": {
        "height": 0.8,
        "width": 0.8,
        "x": 0.1,
        "y": 0.1
       },
       "content": {
        "cell": "7f25a26f-5b67-4709-bfff-abe0bc90b273",
        "part": "whole"
       },
       "id": "2938bad7-03e4-4bb5-850e-ec265694c187"
      }
     }
    },
    "2e8a04f2-7f89-4988-863f-3dbc18715ec4": {
     "id": "2e8a04f2-7f89-4988-863f-3dbc18715ec4",
     "prev": "9f0dc2cc-4789-4745-aec2-e21bb2d935ba",
     "regions": {
      "ea5d3941-506d-40cc-94f3-0928efca39e5": {
       "attrs": {
        "height": 0.8,
        "width": 0.8,
        "x": 0.1,
        "y": 0.1
       },
       "content": {
        "cell": "2b3dddc7-e2db-43c4-9c00-2246e2d37378",
        "part": "whole"
       },
       "id": "ea5d3941-506d-40cc-94f3-0928efca39e5"
      }
     }
    },
    "4288245d-b3f0-4f7f-bdb7-10fbb88d2bc8": {
     "id": "4288245d-b3f0-4f7f-bdb7-10fbb88d2bc8",
     "prev": "07126991-8723-4a12-81c2-0bf94882858a",
     "regions": {
      "19b5d8af-ef40-450c-a2ed-45f3c6fc2eb9": {
       "attrs": {
        "height": 0.8,
        "width": 0.8,
        "x": 0.1,
        "y": 0.1
       },
       "content": {
        "cell": "31a703ba-5e64-4de2-8e9f-266a2f9fe35a",
        "part": "whole"
       },
       "id": "19b5d8af-ef40-450c-a2ed-45f3c6fc2eb9"
      }
     }
    },
    "561b4200-3f45-4305-8fd7-3a4203889be0": {
     "id": "561b4200-3f45-4305-8fd7-3a4203889be0",
     "prev": "649a8b47-0502-4c0f-8e10-8ca8ef3e7ef1",
     "regions": {
      "ba70898c-290f-4200-89f6-8cc920db434d": {
       "attrs": {
        "height": 0.8,
        "width": 0.8,
        "x": 0.1,
        "y": 0.1
       },
       "content": {
        "cell": "5bc30b5d-df48-4d27-a34f-6742544f0b0b",
        "part": "whole"
       },
       "id": "ba70898c-290f-4200-89f6-8cc920db434d"
      }
     }
    },
    "578deeae-1054-4e05-85d0-eeb40ae9e797": {
     "id": "578deeae-1054-4e05-85d0-eeb40ae9e797",
     "prev": "8ae6c5f9-ca2c-4f46-902b-b6d204616e6c",
     "regions": {
      "fefeba76-3fc2-4152-9e28-d28a2042c559": {
       "attrs": {
        "height": 0.8,
        "width": 0.8,
        "x": 0.1,
        "y": 0.1
       },
       "content": {
        "cell": "548a2d8d-12d6-456f-be5b-9703db07f5c7",
        "part": "whole"
       },
       "id": "fefeba76-3fc2-4152-9e28-d28a2042c559"
      }
     }
    },
    "5851dfeb-c997-49e4-8c8f-69e2618afc1c": {
     "id": "5851dfeb-c997-49e4-8c8f-69e2618afc1c",
     "prev": "0ff0c754-7136-43d4-919e-669473bc9524",
     "regions": {
      "963e6612-c6bb-44e4-8820-443ab1584255": {
       "attrs": {
        "height": 0.8,
        "width": 0.8,
        "x": 0.1,
        "y": 0.1
       },
       "content": {
        "cell": "7e0cd87a-6dad-4fdb-ae59-36cef91c0557",
        "part": "whole"
       },
       "id": "963e6612-c6bb-44e4-8820-443ab1584255"
      }
     }
    },
    "58d96cf5-f2fe-4dc4-b550-ffed92803282": {
     "id": "58d96cf5-f2fe-4dc4-b550-ffed92803282",
     "prev": "f42f352e-1708-4982-9b42-9e0851b82bdb",
     "regions": {
      "77d17e28-28d1-4745-88df-71924223e3db": {
       "attrs": {
        "height": 0.8,
        "width": 0.8,
        "x": 0.1,
        "y": 0.1
       },
       "content": {
        "cell": "8def54da-b18e-47cb-827b-1603d6f34a61",
        "part": "whole"
       },
       "id": "77d17e28-28d1-4745-88df-71924223e3db"
      }
     }
    },
    "5d59dacd-cb73-4c8e-a4d4-b2ae685ffc59": {
     "id": "5d59dacd-cb73-4c8e-a4d4-b2ae685ffc59",
     "prev": "0fc84d8a-4b3b-4d46-9881-f2a1b37b05e5",
     "regions": {
      "80460cd9-6236-4961-b21f-fc5821cddec2": {
       "attrs": {
        "height": 0.8,
        "width": 0.8,
        "x": 0.1,
        "y": 0.1
       },
       "content": {
        "cell": "9e1d19cc-6346-4677-bf9d-cd3d9df3f7f7",
        "part": "whole"
       },
       "id": "80460cd9-6236-4961-b21f-fc5821cddec2"
      }
     }
    },
    "629dcadb-8dc8-44e6-9432-c59009cf2c21": {
     "id": "629dcadb-8dc8-44e6-9432-c59009cf2c21",
     "prev": "6d52a893-7b49-484a-868e-7bda314e3e23",
     "regions": {
      "c10ff6a7-b9ee-402e-8ace-f473894abeeb": {
       "attrs": {
        "height": 0.8,
        "width": 0.8,
        "x": 0.1,
        "y": 0.1
       },
       "content": {
        "cell": "73e61838-ee90-41cb-8ccc-9d071dee1187",
        "part": "whole"
       },
       "id": "c10ff6a7-b9ee-402e-8ace-f473894abeeb"
      }
     }
    },
    "6431b780-db36-4acc-b378-c9adb0e6b854": {
     "id": "6431b780-db36-4acc-b378-c9adb0e6b854",
     "prev": "b5438c7d-0eec-45f1-80e6-24ce273b7410",
     "regions": {
      "120bd15d-3006-4d6a-99b5-05f4e6766907": {
       "attrs": {
        "height": 0.8,
        "width": 0.8,
        "x": 0.1,
        "y": 0.1
       },
       "content": {
        "cell": "11960bca-713a-49a3-b045-021f5ad05a4f",
        "part": "whole"
       },
       "id": "120bd15d-3006-4d6a-99b5-05f4e6766907"
      }
     }
    },
    "649a8b47-0502-4c0f-8e10-8ca8ef3e7ef1": {
     "id": "649a8b47-0502-4c0f-8e10-8ca8ef3e7ef1",
     "prev": "79714580-8618-44a1-bc2b-1b81aeebbc51",
     "regions": {
      "11d68b42-557e-4594-a0bf-7745ae47bf85": {
       "attrs": {
        "height": 0.8,
        "width": 0.8,
        "x": 0.1,
        "y": 0.1
       },
       "content": {
        "cell": "d8119fff-bab9-484b-8a09-dad8cb3bb8de",
        "part": "whole"
       },
       "id": "11d68b42-557e-4594-a0bf-7745ae47bf85"
      }
     }
    },
    "64e9ae0c-a100-4888-9f59-0ff16fbce9a4": {
     "id": "64e9ae0c-a100-4888-9f59-0ff16fbce9a4",
     "prev": "fae18cb4-9bc9-4424-8d52-e0874dd31f32",
     "regions": {
      "8a9113f7-0560-459a-8640-7b14ce1bc049": {
       "attrs": {
        "height": 0.8,
        "width": 0.8,
        "x": 0.1,
        "y": 0.1
       },
       "content": {
        "cell": "037dd613-dec3-4bdd-84ba-a6a82642a75a",
        "part": "whole"
       },
       "id": "8a9113f7-0560-459a-8640-7b14ce1bc049"
      }
     }
    },
    "6d52a893-7b49-484a-868e-7bda314e3e23": {
     "id": "6d52a893-7b49-484a-868e-7bda314e3e23",
     "prev": "6ed6815d-2b34-4a3b-b561-d512b3c133c2",
     "regions": {
      "0b722b3d-3a20-4d4d-9c73-6a4774f13059": {
       "attrs": {
        "height": 0.8,
        "width": 0.8,
        "x": 0.1,
        "y": 0.1
       },
       "content": {
        "cell": "1f4d4f2c-d826-4c19-b76b-2ee2e0148eb8",
        "part": "whole"
       },
       "id": "0b722b3d-3a20-4d4d-9c73-6a4774f13059"
      }
     }
    },
    "6ed6815d-2b34-4a3b-b561-d512b3c133c2": {
     "id": "6ed6815d-2b34-4a3b-b561-d512b3c133c2",
     "prev": "d74f37b1-2e59-413c-becc-b69224891442",
     "regions": {
      "77f68cd7-0357-4e39-bfd0-18d97e6502d6": {
       "attrs": {
        "height": 0.8,
        "width": 0.8,
        "x": 0.1,
        "y": 0.1
       },
       "content": {
        "cell": "db0c5524-0f48-4d06-a004-2e862f6bf659",
        "part": "whole"
       },
       "id": "77f68cd7-0357-4e39-bfd0-18d97e6502d6"
      }
     }
    },
    "78270644-8398-41d4-9245-b8a7c79ddb76": {
     "id": "78270644-8398-41d4-9245-b8a7c79ddb76",
     "prev": "f47a8fdc-7d27-432f-81a9-2e39f9138e8d",
     "regions": {
      "6ac3fd05-bf6b-4089-af81-e2974947a63b": {
       "attrs": {
        "height": 0.8,
        "width": 0.8,
        "x": 0.1,
        "y": 0.1
       },
       "content": {
        "cell": "4c55d45f-1aaa-47d0-9d8a-6b2d3ca14a9e",
        "part": "whole"
       },
       "id": "6ac3fd05-bf6b-4089-af81-e2974947a63b"
      }
     }
    },
    "79714580-8618-44a1-bc2b-1b81aeebbc51": {
     "id": "79714580-8618-44a1-bc2b-1b81aeebbc51",
     "prev": "5d59dacd-cb73-4c8e-a4d4-b2ae685ffc59",
     "regions": {
      "0bff6f9a-f518-45ce-9149-e0246c928a38": {
       "attrs": {
        "height": 0.8,
        "width": 0.8,
        "x": 0.1,
        "y": 0.1
       },
       "content": {
        "cell": "325cc043-9f36-427b-a21e-2d7e424c5b7c",
        "part": "whole"
       },
       "id": "0bff6f9a-f518-45ce-9149-e0246c928a38"
      }
     }
    },
    "7c93969d-3fb8-4adf-93a9-1b627fa312d4": {
     "id": "7c93969d-3fb8-4adf-93a9-1b627fa312d4",
     "prev": "d674326d-43dd-41c6-9f71-cbcc68fb205a",
     "regions": {
      "28d9b931-7dd9-47c8-86d1-8641c4f30136": {
       "attrs": {
        "height": 0.8,
        "width": 0.8,
        "x": 0.1,
        "y": 0.1
       },
       "content": {
        "cell": "0c42cc78-b9aa-4a7f-9ba5-6fd203335b11",
        "part": "whole"
       },
       "id": "28d9b931-7dd9-47c8-86d1-8641c4f30136"
      }
     }
    },
    "7f2eede6-b540-4c1c-905e-9ad5eab7ced3": {
     "id": "7f2eede6-b540-4c1c-905e-9ad5eab7ced3",
     "prev": "6431b780-db36-4acc-b378-c9adb0e6b854",
     "regions": {
      "a92eebd7-9084-4424-ac4c-38fe0bfa8720": {
       "attrs": {
        "height": 0.8,
        "width": 0.8,
        "x": 0.1,
        "y": 0.1
       },
       "content": {
        "cell": "e3ea5097-b40a-405d-a4d5-4ff8b8f236cb",
        "part": "whole"
       },
       "id": "a92eebd7-9084-4424-ac4c-38fe0bfa8720"
      }
     }
    },
    "825619a1-add3-4e95-b343-4f8818dfeb78": {
     "id": "825619a1-add3-4e95-b343-4f8818dfeb78",
     "prev": "a01fa001-036f-444d-9628-9138f1a5aa56",
     "regions": {
      "a38f9892-6fb1-426c-b6e2-c46f4d9315de": {
       "attrs": {
        "height": 0.8,
        "width": 0.8,
        "x": 0.1,
        "y": 0.1
       },
       "content": {
        "cell": "21c4bc36-93d4-4bef-aac8-ff65c063b2b4",
        "part": "whole"
       },
       "id": "a38f9892-6fb1-426c-b6e2-c46f4d9315de"
      }
     }
    },
    "855a3e33-8bc9-49da-b7da-7f6b0c64a8bd": {
     "id": "855a3e33-8bc9-49da-b7da-7f6b0c64a8bd",
     "prev": "58d96cf5-f2fe-4dc4-b550-ffed92803282",
     "regions": {
      "d6afe91a-f04b-4056-96c3-8d719e0233e9": {
       "attrs": {
        "height": 0.8,
        "width": 0.8,
        "x": 0.1,
        "y": 0.1
       },
       "content": {
        "cell": "9855f3ac-642b-4273-b53a-b032d32f946c",
        "part": "whole"
       },
       "id": "d6afe91a-f04b-4056-96c3-8d719e0233e9"
      }
     }
    },
    "8817b28e-8f79-479d-bdee-72c9e4c931ff": {
     "id": "8817b28e-8f79-479d-bdee-72c9e4c931ff",
     "prev": "64e9ae0c-a100-4888-9f59-0ff16fbce9a4",
     "regions": {
      "87346d17-2023-446e-8c0d-68a719f84709": {
       "attrs": {
        "height": 0.8,
        "width": 0.8,
        "x": 0.1,
        "y": 0.1
       },
       "content": {
        "cell": "5ce0585d-9cb9-4adf-bffa-b833ddc4d9b9",
        "part": "whole"
       },
       "id": "87346d17-2023-446e-8c0d-68a719f84709"
      }
     }
    },
    "890708e7-7214-4f75-b144-4674883436cc": {
     "id": "890708e7-7214-4f75-b144-4674883436cc",
     "prev": "7c93969d-3fb8-4adf-93a9-1b627fa312d4",
     "regions": {
      "f716c59d-cee4-488b-abcc-d4a5f7d94154": {
       "attrs": {
        "height": 0.8,
        "width": 0.8,
        "x": 0.1,
        "y": 0.1
       },
       "content": {
        "cell": "d70c6951-cb68-4209-8f17-42ca737837f0",
        "part": "whole"
       },
       "id": "f716c59d-cee4-488b-abcc-d4a5f7d94154"
      }
     }
    },
    "8ae6c5f9-ca2c-4f46-902b-b6d204616e6c": {
     "id": "8ae6c5f9-ca2c-4f46-902b-b6d204616e6c",
     "prev": "2e8a04f2-7f89-4988-863f-3dbc18715ec4",
     "regions": {
      "95a033af-6108-48e1-8ee0-b5f9ab9dd425": {
       "attrs": {
        "height": 0.8,
        "width": 0.8,
        "x": 0.1,
        "y": 0.1
       },
       "content": {
        "cell": "bb46d35d-f721-4757-8abe-5e913b024754",
        "part": "whole"
       },
       "id": "95a033af-6108-48e1-8ee0-b5f9ab9dd425"
      }
     }
    },
    "9f0dc2cc-4789-4745-aec2-e21bb2d935ba": {
     "id": "9f0dc2cc-4789-4745-aec2-e21bb2d935ba",
     "prev": "cbe7119d-b4b9-4cb7-832a-b5981880b118",
     "regions": {
      "16828177-5963-4526-bada-0ddebd55e12a": {
       "attrs": {
        "height": 0.8,
        "width": 0.8,
        "x": 0.1,
        "y": 0.1
       },
       "content": {
        "cell": "3b57171e-d804-4f13-95ce-fc208307935b",
        "part": "whole"
       },
       "id": "16828177-5963-4526-bada-0ddebd55e12a"
      }
     }
    },
    "a01fa001-036f-444d-9628-9138f1a5aa56": {
     "id": "a01fa001-036f-444d-9628-9138f1a5aa56",
     "prev": "1f91ecb6-b676-4548-9874-65042899e080",
     "regions": {
      "b1002568-9ddd-4fc6-a57a-ef96b64d0e48": {
       "attrs": {
        "height": 0.8,
        "width": 0.8,
        "x": 0.1,
        "y": 0.1
       },
       "content": {
        "cell": "928e2342-d8a9-4f10-89d4-4351e2d79faf",
        "part": "whole"
       },
       "id": "b1002568-9ddd-4fc6-a57a-ef96b64d0e48"
      }
     }
    },
    "addaf8e0-54fc-4e28-81af-c1a2b0bbfe0e": {
     "id": "addaf8e0-54fc-4e28-81af-c1a2b0bbfe0e",
     "prev": "5851dfeb-c997-49e4-8c8f-69e2618afc1c",
     "regions": {
      "9a8740c8-34d9-4b52-80eb-5bc9d449f5d6": {
       "attrs": {
        "height": 0.8,
        "width": 0.8,
        "x": 0.1,
        "y": 0.1
       },
       "content": {
        "cell": "a4359baa-6123-4ab2-86cd-2396b17e210a",
        "part": "whole"
       },
       "id": "9a8740c8-34d9-4b52-80eb-5bc9d449f5d6"
      }
     }
    },
    "b0732df3-5d3a-456a-a201-9a453c1c9761": {
     "id": "b0732df3-5d3a-456a-a201-9a453c1c9761",
     "prev": "4288245d-b3f0-4f7f-bdb7-10fbb88d2bc8",
     "regions": {
      "40e8d9c4-119c-4caa-b23d-91f3d563611c": {
       "attrs": {
        "height": 0.8,
        "width": 0.8,
        "x": 0.1,
        "y": 0.1
       },
       "content": {
        "cell": "77223131-ee3c-4d61-9cd3-764de5217256",
        "part": "whole"
       },
       "id": "40e8d9c4-119c-4caa-b23d-91f3d563611c"
      }
     }
    },
    "b5438c7d-0eec-45f1-80e6-24ce273b7410": {
     "id": "b5438c7d-0eec-45f1-80e6-24ce273b7410",
     "prev": "bf824756-9311-4623-b4ef-8067347268ac",
     "regions": {
      "de6755c9-b3df-48fc-ba80-7cd20084a007": {
       "attrs": {
        "height": 0.8,
        "width": 0.8,
        "x": 0.1,
        "y": 0.1
       },
       "content": {
        "cell": "9479d99d-e5e7-40e2-b6b2-d0e9abf75fa7",
        "part": "whole"
       },
       "id": "de6755c9-b3df-48fc-ba80-7cd20084a007"
      }
     }
    },
    "bf824756-9311-4623-b4ef-8067347268ac": {
     "id": "bf824756-9311-4623-b4ef-8067347268ac",
     "prev": "addaf8e0-54fc-4e28-81af-c1a2b0bbfe0e",
     "regions": {
      "d21117f9-7b86-4e5e-b4d2-3e4073804fa1": {
       "attrs": {
        "height": 0.8,
        "width": 0.8,
        "x": 0.1,
        "y": 0.1
       },
       "content": {
        "cell": "40039747-1d42-4731-a4b3-31f3f9c4555f",
        "part": "whole"
       },
       "id": "d21117f9-7b86-4e5e-b4d2-3e4073804fa1"
      }
     }
    },
    "c7902fde-72ec-4442-a48f-282cadffadcc": {
     "id": "c7902fde-72ec-4442-a48f-282cadffadcc",
     "prev": "890708e7-7214-4f75-b144-4674883436cc",
     "regions": {
      "a1fdd40b-11b2-4255-9d43-8335bd65e004": {
       "attrs": {
        "height": 0.8,
        "width": 0.8,
        "x": 0.1,
        "y": 0.1
       },
       "content": {
        "cell": "a8094d7e-30bb-45e1-af98-93e2be4b718b",
        "part": "whole"
       },
       "id": "a1fdd40b-11b2-4255-9d43-8335bd65e004"
      }
     }
    },
    "c9d60455-c611-4227-9150-e20a0f13be07": {
     "id": "c9d60455-c611-4227-9150-e20a0f13be07",
     "prev": "e9e158f8-89c4-481d-b810-064b62465b20",
     "regions": {
      "4452c36d-aeaa-4281-9dc8-78f72a37e63b": {
       "attrs": {
        "height": 0.8,
        "width": 0.8,
        "x": 0.1,
        "y": 0.1
       },
       "content": {
        "cell": "3c0d3da1-ca47-4604-9f55-1a9be03c9f8d",
        "part": "whole"
       },
       "id": "4452c36d-aeaa-4281-9dc8-78f72a37e63b"
      }
     }
    },
    "cbe7119d-b4b9-4cb7-832a-b5981880b118": {
     "id": "cbe7119d-b4b9-4cb7-832a-b5981880b118",
     "prev": "855a3e33-8bc9-49da-b7da-7f6b0c64a8bd",
     "regions": {
      "c166492a-5f2d-43d5-8f99-0d83470faa2d": {
       "attrs": {
        "height": 0.8,
        "width": 0.8,
        "x": 0.1,
        "y": 0.1
       },
       "content": {
        "cell": "30a47bf2-b1df-4a68-a101-76e662b53dd1",
        "part": "whole"
       },
       "id": "c166492a-5f2d-43d5-8f99-0d83470faa2d"
      }
     }
    },
    "cbf0f68f-58d8-4a20-a4f4-20a50c2a08c3": {
     "id": "cbf0f68f-58d8-4a20-a4f4-20a50c2a08c3",
     "prev": "105eef24-a6c1-458c-a03a-260d44d147ad",
     "regions": {
      "d34def81-8b27-488f-bf5d-1d3c2af05ada": {
       "attrs": {
        "height": 0.8,
        "width": 0.8,
        "x": 0.1,
        "y": 0.1
       },
       "content": {
        "cell": "bb4f5d1b-6d0b-4f79-904e-31fe42c57ba1",
        "part": "whole"
       },
       "id": "d34def81-8b27-488f-bf5d-1d3c2af05ada"
      }
     }
    },
    "d674326d-43dd-41c6-9f71-cbcc68fb205a": {
     "id": "d674326d-43dd-41c6-9f71-cbcc68fb205a",
     "prev": "dd1ef118-55aa-455a-81d1-6edf939e7c88",
     "regions": {
      "d4c9dd38-591e-4a67-829e-2e49c86380e4": {
       "attrs": {
        "height": 0.8,
        "width": 0.8,
        "x": 0.1,
        "y": 0.1
       },
       "content": {
        "cell": "251c26b5-caf0-4f13-8c6c-a69b66327b9b",
        "part": "whole"
       },
       "id": "d4c9dd38-591e-4a67-829e-2e49c86380e4"
      }
     }
    },
    "d74f37b1-2e59-413c-becc-b69224891442": {
     "id": "d74f37b1-2e59-413c-becc-b69224891442",
     "prev": "cbf0f68f-58d8-4a20-a4f4-20a50c2a08c3",
     "regions": {
      "792f7ae6-3e1d-404c-bce8-86b873ebd93a": {
       "attrs": {
        "height": 0.8,
        "width": 0.8,
        "x": 0.1,
        "y": 0.1
       },
       "content": {
        "cell": "a59e0519-4a2a-4c65-aa09-fa259beffeea",
        "part": "whole"
       },
       "id": "792f7ae6-3e1d-404c-bce8-86b873ebd93a"
      }
     }
    },
    "dd1ef118-55aa-455a-81d1-6edf939e7c88": {
     "id": "dd1ef118-55aa-455a-81d1-6edf939e7c88",
     "prev": "629dcadb-8dc8-44e6-9432-c59009cf2c21",
     "regions": {
      "5449a8cb-6f47-4cac-b3d8-66788cbc59b0": {
       "attrs": {
        "height": 0.8,
        "width": 0.8,
        "x": 0.1,
        "y": 0.1
       },
       "content": {
        "cell": "e3a933e6-c814-4511-9bbc-083a84d7378c",
        "part": "whole"
       },
       "id": "5449a8cb-6f47-4cac-b3d8-66788cbc59b0"
      }
     }
    },
    "e9e158f8-89c4-481d-b810-064b62465b20": {
     "id": "e9e158f8-89c4-481d-b810-064b62465b20",
     "prev": "561b4200-3f45-4305-8fd7-3a4203889be0",
     "regions": {
      "91834b91-0907-4351-8729-2845ac7cb61f": {
       "attrs": {
        "height": 0.8,
        "width": 0.8,
        "x": 0.1,
        "y": 0.1
       },
       "content": {
        "cell": "7936cd34-6f0b-4a56-99a0-0c90ca50c5d8",
        "part": "whole"
       },
       "id": "91834b91-0907-4351-8729-2845ac7cb61f"
      }
     }
    },
    "f42f352e-1708-4982-9b42-9e0851b82bdb": {
     "id": "f42f352e-1708-4982-9b42-9e0851b82bdb",
     "prev": "78270644-8398-41d4-9245-b8a7c79ddb76",
     "regions": {
      "ff1e88dd-4055-44a9-a1d0-edfbed5554ef": {
       "attrs": {
        "height": 0.8,
        "width": 0.8,
        "x": 0.1,
        "y": 0.1
       },
       "content": {
        "cell": "a6a2d5bc-5fe3-46ab-ba87-2ec0d161a759",
        "part": "whole"
       },
       "id": "ff1e88dd-4055-44a9-a1d0-edfbed5554ef"
      }
     }
    },
    "f47a8fdc-7d27-432f-81a9-2e39f9138e8d": {
     "id": "f47a8fdc-7d27-432f-81a9-2e39f9138e8d",
     "prev": "8817b28e-8f79-479d-bdee-72c9e4c931ff",
     "regions": {
      "ffb771ba-da6c-41cb-a3f9-0544e4a71e2a": {
       "attrs": {
        "height": 0.8,
        "width": 0.8,
        "x": 0.1,
        "y": 0.1
       },
       "content": {
        "cell": "7abc4742-e42b-447a-88e5-dda4acf2f172",
        "part": "whole"
       },
       "id": "ffb771ba-da6c-41cb-a3f9-0544e4a71e2a"
      }
     }
    },
    "fae18cb4-9bc9-4424-8d52-e0874dd31f32": {
     "id": "fae18cb4-9bc9-4424-8d52-e0874dd31f32",
     "prev": "c7902fde-72ec-4442-a48f-282cadffadcc",
     "regions": {
      "10cb8017-5dba-4eda-8229-9f8208826e47": {
       "attrs": {
        "height": 0.8,
        "width": 0.8,
        "x": 0.1,
        "y": 0.1
       },
       "content": {
        "cell": "b328116a-f553-4f41-bf23-a5a2ff477481",
        "part": "whole"
       },
       "id": "10cb8017-5dba-4eda-8229-9f8208826e47"
      }
     }
    }
   },
   "themes": {}
  }
 },
 "nbformat": 4,
 "nbformat_minor": 1
}
